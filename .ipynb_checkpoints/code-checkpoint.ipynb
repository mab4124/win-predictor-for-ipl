{
 "cells": [
  {
   "cell_type": "code",
   "execution_count": null,
   "id": "b22e6b31-cc0e-401f-81d5-e87fd8848e6f",
   "metadata": {},
   "outputs": [],
   "source": [
    "import pandas as pd\n",
    "import numpy as np\n",
    "\n",
    "df1 = pd.read_csv('deli.csv')\n",
    "df2 = pd.read_csv('mt.csv')\n"
   ]
  },
  {
   "cell_type": "code",
   "execution_count": null,
   "id": "088bff10-0d29-42be-b5f9-71b7ae757438",
   "metadata": {},
   "outputs": [],
   "source": [
    "total_scoredf = df1.groupby(['match_id', \"inning\"]).sum()['total_runs'].reset_index()"
   ]
  },
  {
   "cell_type": "code",
   "execution_count": null,
   "id": "7efd4626-faa7-466c-b14b-50b5d8a147bb",
   "metadata": {},
   "outputs": [],
   "source": [
    "total_scoredf = total_scoredf[total_scoredf[\"inning\"] == 1]"
   ]
  },
  {
   "cell_type": "code",
   "execution_count": null,
   "id": "79ea3da2-dbe3-4b9e-a5c4-ce17ac4847e7",
   "metadata": {},
   "outputs": [],
   "source": [
    "match_df = df2.merge(total_scoredf[['match_id', 'total_runs']], left_on = 'id', right_on = 'match_id')\n",
    "match_df"
   ]
  },
  {
   "cell_type": "code",
   "execution_count": null,
   "id": "95e220bd-a004-4920-b85f-d7206b1cd15b",
   "metadata": {},
   "outputs": [],
   "source": [
    "match_df['team1'].unique()"
   ]
  },
  {
   "cell_type": "code",
   "execution_count": null,
   "id": "45eb42b9-1227-48df-b63d-35ef8bf8a516",
   "metadata": {},
   "outputs": [],
   "source": [
    "teams = [\n",
    "    'Sunrisers Hyderabad',\n",
    "    'Mumbai Indians',\n",
    "    'Royal Challengers Bangalore',\n",
    "    'Kolkata Knight Riders',\n",
    "    'Kings XI Punjab',\n",
    "    'Chennai Super Kings',\n",
    "    'Rajasthan Royals',\n",
    "    'Delhi Capitals'\n",
    "]\n",
    "match_df['team1'] = match_df['team1'].str.replace('Delhi Daredevils','Delhi Capitals')\n",
    "match_df['team2'] = match_df['team2'].str.replace('Delhi Daredevils','Delhi Capitals')\n",
    "\n",
    "match_df['team1'] = match_df['team1'].str.replace('Deccan Chargers','Sunrisers Hyderabad')\n",
    "match_df['team2'] = match_df['team2'].str.replace('Deccan Chargers','Sunrisers Hyderabad')"
   ]
  },
  {
   "cell_type": "code",
   "execution_count": null,
   "id": "7640b967-117d-4aa9-ba25-7a8a50eb3282",
   "metadata": {},
   "outputs": [],
   "source": [
    "match_df = match_df[match_df['team1'].isin(teams)]\n",
    "match_df = match_df[match_df['team2'].isin(teams)]\n",
    "match_df = match_df[match_df['dl_applied'] == 0]"
   ]
  },
  {
   "cell_type": "code",
   "execution_count": null,
   "id": "065374f9-e8f3-48e8-bc6c-852f22303a7c",
   "metadata": {},
   "outputs": [],
   "source": [
    "match_df = match_df[['match_id','city', 'winner','total_runs']]"
   ]
  },
  {
   "cell_type": "code",
   "execution_count": null,
   "id": "7b1dfcd0-100f-48ae-9e52-532b79505784",
   "metadata": {},
   "outputs": [],
   "source": [
    "delivery_df = df1[df1['inning'] == 2]"
   ]
  },
  {
   "cell_type": "code",
   "execution_count": null,
   "id": "12998898-4e5f-417b-8c9a-3e16202f1b46",
   "metadata": {},
   "outputs": [],
   "source": [
    "delivery_df = match_df.merge(delivery_df , on = 'match_id')"
   ]
  },
  {
   "cell_type": "code",
   "execution_count": null,
   "id": "52d48d4c-400c-4c5f-987c-230c59e43bd9",
   "metadata": {},
   "outputs": [],
   "source": [
    "delivery_df"
   ]
  },
  {
   "cell_type": "code",
   "execution_count": null,
   "id": "6e6d0a0a-b9d3-4def-a5bd-e2b114e7d140",
   "metadata": {},
   "outputs": [],
   "source": [
    "delivery_df['current_score'] = delivery_df.groupby('match_id')['total_runs_y'].cumsum()\n"
   ]
  },
  {
   "cell_type": "code",
   "execution_count": null,
   "id": "21360fc4-aa90-4c60-a894-a6b2a3c59349",
   "metadata": {},
   "outputs": [],
   "source": [
    "delivery_df"
   ]
  },
  {
   "cell_type": "code",
   "execution_count": null,
   "id": "b449ecdb-724f-4c08-8ea4-4921eca9c535",
   "metadata": {},
   "outputs": [],
   "source": [
    "delivery_df['runs_left']  = delivery_df['total_runs_x'] - delivery_df['current_score']\n",
    "delivery_df['balls left'] = 126 - delivery_df['over']*6 - delivery_df['ball']\n",
    "delivery_df.head(4)"
   ]
  },
  {
   "cell_type": "code",
   "execution_count": null,
   "id": "3ac2e928-303d-437d-8310-da48ea10f311",
   "metadata": {},
   "outputs": [],
   "source": [
    "# Step 1: Fill NaN values with \"0\"\n",
    "delivery_df['player_dismissed'] = delivery_df['player_dismissed'].fillna(0)\n",
    "delivery_df['player_dismissed'] = delivery_df['player_dismissed'].apply(lambda x: 0 if x == 0 else 1)\n",
    "\n",
    "\n"
   ]
  },
  {
   "cell_type": "code",
   "execution_count": null,
   "id": "d7c239d5-64f6-48ed-9090-5c5db4e28ee9",
   "metadata": {},
   "outputs": [],
   "source": [
    "delivery_df.head(50)"
   ]
  },
  {
   "cell_type": "code",
   "execution_count": null,
   "id": "b073f913-1ead-4f17-8d49-4a31526d74da",
   "metadata": {},
   "outputs": [],
   "source": [
    "delivery_df['wickets'] = delivery_df.groupby('match_id')['player_dismissed'].cumsum()\n",
    "delivery_df['wickets_left'] = 10 - delivery_df['wickets']\n",
    "delivery_df['crr'] = (delivery_df['current_score']*6)/(120 - delivery_df['balls left'])\n",
    "delivery_df['rrr'] = (delivery_df['runs_left']*6)/delivery_df['balls left']"
   ]
  },
  {
   "cell_type": "code",
   "execution_count": null,
   "id": "102e3da2-8f72-4f8a-a442-e83ec54a446c",
   "metadata": {},
   "outputs": [],
   "source": [
    "def result(row) :\n",
    "    if row['batting_team'] == row['winner']:\n",
    "      return 1\n",
    "    else: return 0"
   ]
  },
  {
   "cell_type": "code",
   "execution_count": null,
   "id": "a39c39ae-3beb-4ea8-9c31-c9ab5e329fe0",
   "metadata": {},
   "outputs": [],
   "source": [
    "delivery_df['result'] = delivery_df.apply(result, axis = 1)"
   ]
  },
  {
   "cell_type": "code",
   "execution_count": null,
   "id": "39a1ab9a-954f-4ae9-910f-6cebcc28d0a4",
   "metadata": {},
   "outputs": [],
   "source": [
    "final_df = delivery_df[['batting_team','bowling_team','city','runs_left','balls left','wickets','total_runs_x','crr','rrr','result']]"
   ]
  },
  {
   "cell_type": "code",
   "execution_count": null,
   "id": "e16e53e3-7356-4741-9d5b-6b00c794da05",
   "metadata": {},
   "outputs": [],
   "source": [
    "final_df.dropna(inplace=True)\n",
    "final_df = final_df[final_df['balls left'] != 0]\n",
    "\n"
   ]
  },
  {
   "cell_type": "code",
   "execution_count": null,
   "id": "6e65c4ba-ff86-4c7b-a5af-3a0d981810ae",
   "metadata": {},
   "outputs": [],
   "source": [
    "x = final_df.drop('result', axis = 1)\n",
    "y = final_df['result']"
   ]
  },
  {
   "cell_type": "code",
   "execution_count": null,
   "id": "906d070c-d3ef-43be-9a25-2ddac8838e94",
   "metadata": {},
   "outputs": [],
   "source": [
    "from sklearn.model_selection import train_test_split\n",
    "X_train,X_test,y_train,y_test = train_test_split(x,y,test_size=0.2, random_state = 43)\n",
    "X_train"
   ]
  },
  {
   "cell_type": "code",
   "execution_count": null,
   "id": "f5bbec4a-f4f4-494c-af8f-9d2c8153640e",
   "metadata": {},
   "outputs": [],
   "source": [
    "from sklearn.preprocessing import OneHotEncoder\n",
    "from sklearn.compose import ColumnTransformer\n",
    "\n",
    "categorical_features =['batting_team','bowling_team', 'city']\n",
    "\n",
    "One_hot = OneHotEncoder()\n",
    "transformer = ColumnTransformer([('One_hot',One_hot, categorical_features)],remainder = \"passthrough\")\n",
    "X = transformer.fit_transform(X_train)\n",
    "x_test = transformer.fit_transform(X_test)"
   ]
  },
  {
   "cell_type": "code",
   "execution_count": null,
   "id": "b934208f-8d11-4ab6-a72c-0b8e8bbac77c",
   "metadata": {},
   "outputs": [],
   "source": []
  },
  {
   "cell_type": "code",
   "execution_count": null,
   "id": "22e1f580-16c4-4725-b986-eb9133f6b9d9",
   "metadata": {},
   "outputs": [],
   "source": []
  },
  {
   "cell_type": "code",
   "execution_count": null,
   "id": "f863e2e6-d451-4a82-ace5-0376a5fd13a4",
   "metadata": {},
   "outputs": [],
   "source": []
  },
  {
   "cell_type": "code",
   "execution_count": null,
   "id": "339a05ae-a028-4290-b513-3148c53610cb",
   "metadata": {},
   "outputs": [],
   "source": []
  }
 ],
 "metadata": {
  "kernelspec": {
   "display_name": "Python 3 (ipykernel)",
   "language": "python",
   "name": "python3"
  },
  "language_info": {
   "codemirror_mode": {
    "name": "ipython",
    "version": 3
   },
   "file_extension": ".py",
   "mimetype": "text/x-python",
   "name": "python",
   "nbconvert_exporter": "python",
   "pygments_lexer": "ipython3",
   "version": "3.12.3"
  }
 },
 "nbformat": 4,
 "nbformat_minor": 5
}
